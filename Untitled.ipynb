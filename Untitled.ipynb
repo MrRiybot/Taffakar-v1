{
 "cells": [
  {
   "cell_type": "code",
   "execution_count": 1,
   "id": "76ce6a85",
   "metadata": {},
   "outputs": [],
   "source": [
    "from googletrans import Translator"
   ]
  },
  {
   "cell_type": "code",
   "execution_count": 2,
   "id": "a38044a9",
   "metadata": {},
   "outputs": [],
   "source": [
    "translator = Translator()"
   ]
  },
  {
   "cell_type": "code",
   "execution_count": 6,
   "id": "03bc0740",
   "metadata": {},
   "outputs": [],
   "source": [
    "a = translator.translate('Mikä on nimesi', dest='en')"
   ]
  },
  {
   "cell_type": "code",
   "execution_count": 10,
   "id": "0678b96a",
   "metadata": {},
   "outputs": [
    {
     "data": {
      "text/plain": [
       "'What is your name'"
      ]
     },
     "execution_count": 10,
     "metadata": {},
     "output_type": "execute_result"
    }
   ],
   "source": [
    "a.text"
   ]
  },
  {
   "cell_type": "code",
   "execution_count": 3,
   "id": "1546d90a",
   "metadata": {},
   "outputs": [],
   "source": [
    "import pandas as pd"
   ]
  },
  {
   "cell_type": "code",
   "execution_count": 4,
   "id": "d01995dd",
   "metadata": {},
   "outputs": [],
   "source": [
    "df = pd.read_csv('cleaned_english_v4_newidea.csv')"
   ]
  },
  {
   "cell_type": "code",
   "execution_count": 5,
   "id": "0b9dcbd1",
   "metadata": {},
   "outputs": [],
   "source": [
    "def find_reference(word):\n",
    "    \n",
    "    return df[df['prompt'] == word]['completion']"
   ]
  },
  {
   "cell_type": "code",
   "execution_count": 8,
   "id": "c335f26d",
   "metadata": {},
   "outputs": [
    {
     "data": {
      "text/plain": [
       "'(6:97), (12:4), (16:12), (16:16), (37:6), (77:8), (81:2), '"
      ]
     },
     "execution_count": 8,
     "metadata": {},
     "output_type": "execute_result"
    }
   ],
   "source": [
    "find_reference('stars').item()"
   ]
  },
  {
   "cell_type": "code",
   "execution_count": 37,
   "id": "2a400547",
   "metadata": {},
   "outputs": [],
   "source": [
    "def find_question(sentence):\n",
    "    for word in sentence.split(\" \"):\n",
    "        print(word)\n",
    "        try:\n",
    "            if word[0]=='\"' and word[-1]=='\"':\n",
    "                return find_reference(word[1:-1])\n",
    "        except:\n",
    "            print(\"no word\")\n",
    "    return -1"
   ]
  },
  {
   "cell_type": "code",
   "execution_count": 29,
   "id": "427ae962",
   "metadata": {},
   "outputs": [
    {
     "name": "stdout",
     "output_type": "stream",
     "text": [
      "\n",
      "ijdijwjocdij\n"
     ]
    },
    {
     "data": {
      "text/plain": [
       "-1"
      ]
     },
     "execution_count": 29,
     "metadata": {},
     "output_type": "execute_result"
    }
   ],
   "source": [
    "find_question(\" ijdijwjocdij ?A ? \")"
   ]
  },
  {
   "cell_type": "code",
   "execution_count": 38,
   "id": "fabe75c2",
   "metadata": {},
   "outputs": [
    {
     "name": "stdout",
     "output_type": "stream",
     "text": [
      "Where\n",
      "is\n",
      "\"Moses\"\n"
     ]
    },
    {
     "data": {
      "text/plain": [
       "1923    (2:51), (2:53), (2:54), (2:60), (2:67), (2:87)...\n",
       "Name: completion, dtype: object"
      ]
     },
     "execution_count": 38,
     "metadata": {},
     "output_type": "execute_result"
    }
   ],
   "source": [
    "find_question('Where is \"Moses\" mentioned in the Holy Quran?')"
   ]
  },
  {
   "cell_type": "code",
   "execution_count": 36,
   "id": "a1114d64",
   "metadata": {},
   "outputs": [
    {
     "data": {
      "text/plain": [
       "['Where', 'is', '\"Moses\"', 'mentioned', 'in', 'the', 'Holy', 'Quran?']"
      ]
     },
     "execution_count": 36,
     "metadata": {},
     "output_type": "execute_result"
    }
   ],
   "source": [
    "'Where is \"Moses\" mentioned in the Holy Quran?'.split(\" \")"
   ]
  },
  {
   "cell_type": "code",
   "execution_count": null,
   "id": "49f061f3",
   "metadata": {},
   "outputs": [],
   "source": []
  }
 ],
 "metadata": {
  "kernelspec": {
   "display_name": "projects",
   "language": "python",
   "name": "myenv"
  },
  "language_info": {
   "codemirror_mode": {
    "name": "ipython",
    "version": 3
   },
   "file_extension": ".py",
   "mimetype": "text/x-python",
   "name": "python",
   "nbconvert_exporter": "python",
   "pygments_lexer": "ipython3",
   "version": "3.9.16"
  }
 },
 "nbformat": 4,
 "nbformat_minor": 5
}
